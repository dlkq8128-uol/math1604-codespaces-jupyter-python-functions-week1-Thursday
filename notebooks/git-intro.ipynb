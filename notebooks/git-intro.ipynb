{
 "cells": [
  {
   "cell_type": "markdown",
   "metadata": {},
   "source": [
    "# Worksheet: Introduction to GitHub & Version Control in GitHub Codespaces\n",
    "\n",
    "**Audience:** First-year Data Science students"
   ]
  },
  {
   "cell_type": "markdown",
   "metadata": {},
   "source": [
    "## Overview\n",
    "This worksheet introduces the fundamentals of using **GitHub** for version control and shows you how to get started quickly in **GitHub Codespaces**. You will learn how to create a repository, make changes, commit them, create branches, and merge your changes back into the main project. By the end of this worksheet, you will have a basic understanding of how GitHub helps you collaborate on data science projects in a cloud-based development environment."
   ]
  },
  {
   "cell_type": "markdown",
   "metadata": {},
   "source": [
    "## 1. What is GitHub?\n",
    "GitHub is a popular web-based platform for hosting **Git** repositories. It provides tools for:\n",
    "\n",
    "- **Version control**: Tracking changes to your code and data files.\n",
    "- **Collaboration**: Easily working with others, reviewing changes, and discussing ideas.\n",
    "- **Continuous integration and deployment**: Automating tasks such as testing and building.\n",
    "\n",
    "For data science, GitHub is widely used to store and share code, analyses, and documentation in a structured and organized manner."
   ]
  },
  {
   "cell_type": "markdown",
   "metadata": {},
   "source": [
    "## 2. What is GitHub Codespaces?\n",
    "**GitHub Codespaces** is a cloud-hosted development environment integrated with GitHub. It allows you to:\n",
    "\n",
    "- Develop directly in your browser or via supported editors like VS Code.\n",
    "- Collaborate instantly without installing dependencies locally.\n",
    "- Use a virtual machine with pre-configured environments for Python, R, or other data science tools."
   ]
  },
  {
   "cell_type": "markdown",
   "metadata": {},
   "source": [
    "## 3. Getting Started with Codespaces\n",
    "\n",
    "### 3.1 Prerequisites\n",
    "- A **GitHub account** (free or paid).\n",
    "- Access to **GitHub Codespaces** (your organization or personal account must have it enabled).\n",
    "\n",
    "### 3.2 Steps to Launch a Codespace\n",
    "1. **Create or open a repository on GitHub** (can be your personal repo or from an organization).\n",
    "2. Click on the green **“Code”** button, then select **“Codespaces.”**\n",
    "3. If prompted, choose to create a **new codespace**. You may configure resources (CPU, RAM, etc.) depending on your quota or organizational settings.\n",
    "4. Wait for the codespace to launch. You’ll be dropped into a web-based VS Code environment."
   ]
  },
  {
   "cell_type": "markdown",
   "metadata": {},
   "source": [
    "## 4. Hands-On Exercises\n",
    "\n",
    "### Exercise 1: Create a New GitHub Repository\n",
    "1. Go to [GitHub.com](https://github.com) and click on **“+”** (top-right), then select **“New repository.”**\n",
    "2. Name your repository (e.g., **intro-to-git**).\n",
    "3. Choose whether it’s **Public** or **Private**.\n",
    "4. Click **“Create repository.”**\n",
    "5. You will now see your **new repository** page.\n",
    "\n",
    "> **Note:** If you already have a repository you want to use, feel free to skip this step."
   ]
  },
  {
   "cell_type": "markdown",
   "metadata": {},
   "source": [
    "### Exercise 2: Open the Repository in a Codespace\n",
    "1. From your new repository’s page, click on the green **“Code”** button.\n",
    "2. Select **“Codespaces”** → **“Create codespace on main.”**\n",
    "3. Wait for the codespace to set up. After a few moments, a web-based VS Code editor will open in your browser."
   ]
  },
  {
   "cell_type": "markdown",
   "metadata": {},
   "source": [
    "### Exercise 3: Make Your First Commit\n",
    "1. In the **Explorer** tab (left sidebar), locate the **README.md** file. If it doesn’t exist, create it:\n",
    "   - Right-click in the explorer pane → **“New File”** → name it `README.md`.\n",
    "2. Open **README.md** and add some text:\n",
    "   ```markdown\n",
    "   # Intro to GitHub\n",
    "   This repository is used for learning basic GitHub version control in Codespaces.\n",
    "   ```\n",
    "3. Save the file (`Ctrl+S` or `Cmd+S`).\n",
    "4. In the **Source Control** tab (also on the left sidebar, icon with three branches), you will see your changes listed under **Changes**.\n",
    "5. Enter a **commit message** like `Add README.md` and press **Commit** (the checkmark button)."
   ]
  },
  {
   "cell_type": "markdown",
   "metadata": {},
   "source": [
    "### Exercise 4: Push Your Changes\n",
    "1. After committing, click on **…** in the Source Control tab or open the command palette (`Ctrl+Shift+P` or `Cmd+Shift+P`) and search for **“Push.”**\n",
    "2. Confirm to **push** your changes to the remote repository on GitHub.\n",
    "3. Once pushed, go back to your GitHub repo page in a browser, refresh, and verify that the `README.md` file is updated."
   ]
  },
  {
   "cell_type": "markdown",
   "metadata": {},
   "source": [
    "### Exercise 5: Create a New Branch and Merge\n",
    "**Branches** allow you to develop features in isolation without affecting the main version of your project.\n",
    "\n",
    "1. From your codespace, open the **Source Control** panel or **Command Palette** and create a new branch named `feature-update`.\n",
    "2. Modify your `README.md` file:\n",
    "   ```markdown\n",
    "   # Intro to GitHub\n",
    "   This repository is used for learning basic GitHub version control in Codespaces.\n",
    "   \n",
    "   ## New Feature\n",
    "   Added a new section while working on a separate branch.\n",
    "   ```\n",
    "3. **Commit** your changes on `feature-update` with a message like `Add new feature section`.\n",
    "4. **Push** your branch to the remote repository.\n",
    "5. In GitHub (browser), you’ll see a notice about recently pushed branches. Click **“Compare & pull request”** to open a **pull request**.\n",
    "6. Review your changes, then click **“Create pull request.”**\n",
    "7. Once merged, your changes will be integrated into the **main** branch.\n",
    "\n",
    "> **Note:** In real projects, you might request a teammate to review your pull request before merging."
   ]
  },
  {
   "cell_type": "markdown",
   "metadata": {},
   "source": [
    "## 5. Wrap-Up and Best Practices\n",
    "- **Frequent Commits:** Commit small, logical changes. This makes it easier to track what happened and to revert if needed.\n",
    "- **Meaningful Messages:** Write clear commit messages to explain *why* you made the changes.\n",
    "- **Branching Strategy:** Use branches for experimental or new features to keep the main branch stable.\n",
    "- **Pull Requests:** Review code changes, discuss potential issues, and merge when ready."
   ]
  },
  {
   "cell_type": "markdown",
   "metadata": {},
   "source": [
    "## 6. Further Exploration\n",
    "- **GitHub Documentation**: [docs.github.com](https://docs.github.com/)\n",
    "- **Git Concepts**: Branching, merging, conflict resolution, stash, cherry-pick, etc.\n",
    "- **Integration with Data Science Tools**: Notebooks (Jupyter, etc.), containerized environments (Docker), CI/CD for data pipelines, etc."
   ]
  },
  {
   "cell_type": "markdown",
   "metadata": {},
   "source": [
    "# Conclusion\n",
    "You have successfully:\n",
    "\n",
    "1. Created a repository on GitHub.\n",
    "2. Launched a cloud-based development environment with GitHub Codespaces.\n",
    "3. Performed basic Git operations: commit, push, branching, and merging.\n",
    "\n",
    "These skills form the foundation for **collaborative data science projects**. Continue to practice and build confidence in version control workflows, as they are essential for professional development and teamwork in the data science field.\n",
    "\n",
    "> **Happy Coding & Version Controlling!**"
   ]
  }
 ],
 "metadata": {
  "name": "GitHubCodespacesWorksheet",
  "kernelspec": {
   "display_name": "Python 3",
   "language": "python",
   "name": "python3"
  },
  "language_info": {
   "file_extension": ".py",
   "name": "python",
   "mimetype": "text/x-python",
   "version": "3.9"
  }
 },
 "nbformat": 4,
 "nbformat_minor": 5
}
